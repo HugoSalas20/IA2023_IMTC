{
  "nbformat": 4,
  "nbformat_minor": 0,
  "metadata": {
    "colab": {
      "provenance": []
    },
    "kernelspec": {
      "name": "python3",
      "display_name": "Python 3"
    },
    "language_info": {
      "name": "python"
    }
  },
  "cells": [
    {
      "cell_type": "markdown",
      "source": [
        "Actividad 2 Ejercicios en python.\n",
        "Alumno:Victor Hugo Salas Garcia   matricula:2035458  hora:N1\n"
      ],
      "metadata": {
        "id": "tuIhnE8LVva0"
      }
    },
    {
      "cell_type": "code",
      "source": [
        "\"Escribe un programa que solicite al usuario un número y que indique si es par o impar.\"\n",
        "\n",
        "numero = int(input(\"Ingresa un número: \"))\n",
        "\n",
        "if numero % 2 == 0:\n",
        "    print(f\"{numero} es un número par.\")\n",
        "else:\n",
        "    print(f\"{numero} es un número impar.\")\n"
      ],
      "metadata": {
        "colab": {
          "base_uri": "https://localhost:8080/"
        },
        "id": "_AznmrilWKLo",
        "outputId": "666fcf53-698f-461b-a137-e1dd2819cb8d"
      },
      "execution_count": 5,
      "outputs": [
        {
          "output_type": "stream",
          "name": "stdout",
          "text": [
            "Ingresa un número: 32\n",
            "32 es un número par.\n"
          ]
        }
      ]
    },
    {
      "cell_type": "code",
      "source": [
        "\"Escribe un programa que tome una lista de números ingresados por el usuario y muestre la lista en orden inverso\"\n",
        "\n",
        "entrada = input(\"Ingresa una lista de números: \")\n",
        "\n",
        "numeros = entrada.split ()\n",
        "numeros = [int(numero) for numero in numeros]\n",
        "numeros_inversos = numeros[::-1]\n",
        "\n",
        "print(\"La lista en orden inverso es:\", numeros_inversos)\n"
      ],
      "metadata": {
        "colab": {
          "base_uri": "https://localhost:8080/"
        },
        "id": "h8PTiNsMesC0",
        "outputId": "c2040db8-5c65-404f-9434-5d4f9a00c000"
      },
      "execution_count": 10,
      "outputs": [
        {
          "output_type": "stream",
          "name": "stdout",
          "text": [
            "Ingresa una lista de números: 1 2 3 4 5\n",
            "La lista en orden inverso es: [5, 4, 3, 2, 1]\n"
          ]
        }
      ]
    },
    {
      "cell_type": "code",
      "source": [
        "\"\"\"Juego de adivinar el número: Crea un programa que genere un número aleatorio entre 1 y 100,\n",
        " y luego le pida al usuario que adivine el número. El programa debe proporcionar pistas al usuario si el número es mayor o menor que el número objetivo,\n",
        " y seguir solicitando un nuevo intento hasta que el usuario adivine correctamente.\"\"\"\n",
        "\n",
        "import random\n",
        "\n",
        "# Generar un número aleatorio entre 1 y 100\n",
        "numero_objetivo = random.randint(1, 100)\n",
        "\n",
        "intentos = 0\n",
        "\n",
        "print(\"Adivina el número entre 1 y 100\")\n",
        "\n",
        "while True:\n",
        "    try:\n",
        "        intento = int(input(\"Ingresa tu número: \"))\n",
        "        intentos += 1\n",
        "\n",
        "        if intento < numero_objetivo:\n",
        "            print(\"El número es mayor. Intenta de nuevo.\")\n",
        "        elif intento > numero_objetivo:\n",
        "            print(\"El número es menor. Intenta de nuevo.\")\n",
        "        else:\n",
        "            print(f\"¡Lo lograste! Adivinaste el número en {intentos} intentos.\")\n",
        "            break\n",
        "\n",
        "    except ValueError:\n",
        "        print(\"Por favor, ingresa un número válido.\")"
      ],
      "metadata": {
        "colab": {
          "base_uri": "https://localhost:8080/"
        },
        "id": "DtqbSXnTh1Gk",
        "outputId": "16364505-abee-440c-fc8c-1d78c6d57178"
      },
      "execution_count": 18,
      "outputs": [
        {
          "output_type": "stream",
          "name": "stdout",
          "text": [
            "Adivina el número entre 1 y 100\n",
            "Ingresa tu número: 40\n",
            "El número es mayor. Intenta de nuevo.\n",
            "Ingresa tu número: 50\n",
            "El número es mayor. Intenta de nuevo.\n",
            "Ingresa tu número: 70\n",
            "El número es menor. Intenta de nuevo.\n",
            "Ingresa tu número: 60\n",
            "El número es mayor. Intenta de nuevo.\n",
            "Ingresa tu número: 65\n",
            "El número es menor. Intenta de nuevo.\n",
            "Ingresa tu número: 63\n",
            "¡Lo lograste! Adivinaste el número en 6 intentos.\n"
          ]
        }
      ]
    },
    {
      "cell_type": "code",
      "source": [
        "\"\"\"Ejercicio de cálculo de números primos en un rango dado:\"\"\"\n",
        "\"\"\" Escribe un programa que solicite al usuario un rango de números y muestre todos los números primos dentro de ese rango.\"\"\"\n",
        "def es_primo(numero):\n",
        "    if numero <= 1:\n",
        "        return False\n",
        "    if numero <= 3:\n",
        "        return True\n",
        "    if numero % 2 == 0 or numero % 3 == 0:\n",
        "        return False\n",
        "    i = 5\n",
        "    while i * i <= numero:\n",
        "        if numero % i == 0 or numero % (i + 2) == 0:\n",
        "            return False\n",
        "        i += 6\n",
        "    return True\n",
        "\n",
        "# Solicitar al usuario el rango de números\n",
        "inicio = int(input(\"Ingrese el número de inicio del rango: \"))\n",
        "fin = int(input(\"Ingrese el número de fin del rango: \"))\n",
        "\n",
        "print(f\"Números primos en el rango de {inicio} a {fin}:\")\n",
        "for numero in range(inicio, fin + 1):\n",
        "    if es_primo(numero):\n",
        "        print(numero)\n"
      ],
      "metadata": {
        "colab": {
          "base_uri": "https://localhost:8080/"
        },
        "id": "WQKY_6ugMGeo",
        "outputId": "0a271a01-70d6-438b-c577-1e328b306545"
      },
      "execution_count": 2,
      "outputs": [
        {
          "output_type": "stream",
          "name": "stdout",
          "text": [
            "Ingrese el número de inicio del rango: 3\n",
            "Ingrese el número de fin del rango: 27\n",
            "Números primos en el rango de 3 a 27:\n",
            "3\n",
            "5\n",
            "7\n",
            "11\n",
            "13\n",
            "17\n",
            "19\n",
            "23\n"
          ]
        }
      ]
    }
  ]
}